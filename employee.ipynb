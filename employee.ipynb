{
 "cells": [
  {
   "cell_type": "code",
   "execution_count": 1,
   "id": "c987e0a8-eef6-48e1-8742-b6bed448cdd7",
   "metadata": {},
   "outputs": [],
   "source": [
    "import numpy as np\n",
    "import pandas as pd\n",
    "import matplotlib.pyplot as plt\n",
    "import seaborn as sns\n",
    "from sklearn.preprocessing import MinMaxScaler\n",
    "from sklearn.preprocessing import LabelEncoder\n",
    "from sklearn.metrics import accuracy_score, classification_report, confusion_matrix\n",
    "from sklearn.model_selection import train_test_split"
   ]
  },
  {
   "cell_type": "code",
   "execution_count": 3,
   "id": "8801af5a-6a6e-497c-8626-f738f236b591",
   "metadata": {},
   "outputs": [],
   "source": [
    "df = pd.read_csv(r\"C:\\Users\\verma\\OneDrive\\Desktop\\adult 3.csv\")"
   ]
  },
  {
   "cell_type": "code",
   "execution_count": 4,
   "id": "279f976e-c834-4d27-88fa-71c16502e31f",
   "metadata": {},
   "outputs": [
    {
     "data": {
      "text/html": [
       "<div>\n",
       "<style scoped>\n",
       "    .dataframe tbody tr th:only-of-type {\n",
       "        vertical-align: middle;\n",
       "    }\n",
       "\n",
       "    .dataframe tbody tr th {\n",
       "        vertical-align: top;\n",
       "    }\n",
       "\n",
       "    .dataframe thead th {\n",
       "        text-align: right;\n",
       "    }\n",
       "</style>\n",
       "<table border=\"1\" class=\"dataframe\">\n",
       "  <thead>\n",
       "    <tr style=\"text-align: right;\">\n",
       "      <th></th>\n",
       "      <th>age</th>\n",
       "      <th>workclass</th>\n",
       "      <th>fnlwgt</th>\n",
       "      <th>education</th>\n",
       "      <th>educational-num</th>\n",
       "      <th>marital-status</th>\n",
       "      <th>occupation</th>\n",
       "      <th>relationship</th>\n",
       "      <th>race</th>\n",
       "      <th>gender</th>\n",
       "      <th>capital-gain</th>\n",
       "      <th>capital-loss</th>\n",
       "      <th>hours-per-week</th>\n",
       "      <th>native-country</th>\n",
       "      <th>income</th>\n",
       "    </tr>\n",
       "  </thead>\n",
       "  <tbody>\n",
       "    <tr>\n",
       "      <th>0</th>\n",
       "      <td>25</td>\n",
       "      <td>Private</td>\n",
       "      <td>226802</td>\n",
       "      <td>11th</td>\n",
       "      <td>7</td>\n",
       "      <td>Never-married</td>\n",
       "      <td>Machine-op-inspct</td>\n",
       "      <td>Own-child</td>\n",
       "      <td>Black</td>\n",
       "      <td>Male</td>\n",
       "      <td>0</td>\n",
       "      <td>0</td>\n",
       "      <td>40</td>\n",
       "      <td>United-States</td>\n",
       "      <td>&lt;=50K</td>\n",
       "    </tr>\n",
       "    <tr>\n",
       "      <th>1</th>\n",
       "      <td>38</td>\n",
       "      <td>Private</td>\n",
       "      <td>89814</td>\n",
       "      <td>HS-grad</td>\n",
       "      <td>9</td>\n",
       "      <td>Married-civ-spouse</td>\n",
       "      <td>Farming-fishing</td>\n",
       "      <td>Husband</td>\n",
       "      <td>White</td>\n",
       "      <td>Male</td>\n",
       "      <td>0</td>\n",
       "      <td>0</td>\n",
       "      <td>50</td>\n",
       "      <td>United-States</td>\n",
       "      <td>&lt;=50K</td>\n",
       "    </tr>\n",
       "    <tr>\n",
       "      <th>2</th>\n",
       "      <td>28</td>\n",
       "      <td>Local-gov</td>\n",
       "      <td>336951</td>\n",
       "      <td>Assoc-acdm</td>\n",
       "      <td>12</td>\n",
       "      <td>Married-civ-spouse</td>\n",
       "      <td>Protective-serv</td>\n",
       "      <td>Husband</td>\n",
       "      <td>White</td>\n",
       "      <td>Male</td>\n",
       "      <td>0</td>\n",
       "      <td>0</td>\n",
       "      <td>40</td>\n",
       "      <td>United-States</td>\n",
       "      <td>&gt;50K</td>\n",
       "    </tr>\n",
       "    <tr>\n",
       "      <th>3</th>\n",
       "      <td>44</td>\n",
       "      <td>Private</td>\n",
       "      <td>160323</td>\n",
       "      <td>Some-college</td>\n",
       "      <td>10</td>\n",
       "      <td>Married-civ-spouse</td>\n",
       "      <td>Machine-op-inspct</td>\n",
       "      <td>Husband</td>\n",
       "      <td>Black</td>\n",
       "      <td>Male</td>\n",
       "      <td>7688</td>\n",
       "      <td>0</td>\n",
       "      <td>40</td>\n",
       "      <td>United-States</td>\n",
       "      <td>&gt;50K</td>\n",
       "    </tr>\n",
       "    <tr>\n",
       "      <th>4</th>\n",
       "      <td>18</td>\n",
       "      <td>?</td>\n",
       "      <td>103497</td>\n",
       "      <td>Some-college</td>\n",
       "      <td>10</td>\n",
       "      <td>Never-married</td>\n",
       "      <td>?</td>\n",
       "      <td>Own-child</td>\n",
       "      <td>White</td>\n",
       "      <td>Female</td>\n",
       "      <td>0</td>\n",
       "      <td>0</td>\n",
       "      <td>30</td>\n",
       "      <td>United-States</td>\n",
       "      <td>&lt;=50K</td>\n",
       "    </tr>\n",
       "  </tbody>\n",
       "</table>\n",
       "</div>"
      ],
      "text/plain": [
       "   age  workclass  fnlwgt     education  educational-num      marital-status  \\\n",
       "0   25    Private  226802          11th                7       Never-married   \n",
       "1   38    Private   89814       HS-grad                9  Married-civ-spouse   \n",
       "2   28  Local-gov  336951    Assoc-acdm               12  Married-civ-spouse   \n",
       "3   44    Private  160323  Some-college               10  Married-civ-spouse   \n",
       "4   18          ?  103497  Some-college               10       Never-married   \n",
       "\n",
       "          occupation relationship   race  gender  capital-gain  capital-loss  \\\n",
       "0  Machine-op-inspct    Own-child  Black    Male             0             0   \n",
       "1    Farming-fishing      Husband  White    Male             0             0   \n",
       "2    Protective-serv      Husband  White    Male             0             0   \n",
       "3  Machine-op-inspct      Husband  Black    Male          7688             0   \n",
       "4                  ?    Own-child  White  Female             0             0   \n",
       "\n",
       "   hours-per-week native-country income  \n",
       "0              40  United-States  <=50K  \n",
       "1              50  United-States  <=50K  \n",
       "2              40  United-States   >50K  \n",
       "3              40  United-States   >50K  \n",
       "4              30  United-States  <=50K  "
      ]
     },
     "execution_count": 4,
     "metadata": {},
     "output_type": "execute_result"
    }
   ],
   "source": [
    "df.head()"
   ]
  },
  {
   "cell_type": "code",
   "execution_count": 6,
   "id": "0f193c9e-bb25-4df8-bd1e-56c87ca98b1f",
   "metadata": {},
   "outputs": [
    {
     "data": {
      "text/plain": [
       "age                0\n",
       "workclass          0\n",
       "fnlwgt             0\n",
       "education          0\n",
       "educational-num    0\n",
       "marital-status     0\n",
       "occupation         0\n",
       "relationship       0\n",
       "race               0\n",
       "gender             0\n",
       "capital-gain       0\n",
       "capital-loss       0\n",
       "hours-per-week     0\n",
       "native-country     0\n",
       "income             0\n",
       "dtype: int64"
      ]
     },
     "execution_count": 6,
     "metadata": {},
     "output_type": "execute_result"
    }
   ],
   "source": [
    "df.isna().sum()\n"
   ]
  },
  {
   "cell_type": "code",
   "execution_count": 7,
   "id": "3621981f-2a32-4d62-a84f-0e817f3862fd",
   "metadata": {},
   "outputs": [
    {
     "data": {
      "text/plain": [
       "np.int64(52)"
      ]
     },
     "execution_count": 7,
     "metadata": {},
     "output_type": "execute_result"
    }
   ],
   "source": [
    "df.duplicated().sum()\n"
   ]
  },
  {
   "cell_type": "code",
   "execution_count": 8,
   "id": "86e7b2b8-b28d-4ab5-b771-897d5fa46416",
   "metadata": {},
   "outputs": [
    {
     "data": {
      "text/plain": [
       "occupation\n",
       "Prof-specialty       6172\n",
       "Craft-repair         6112\n",
       "Exec-managerial      6086\n",
       "Adm-clerical         5611\n",
       "Sales                5504\n",
       "Other-service        4923\n",
       "Machine-op-inspct    3022\n",
       "?                    2809\n",
       "Transport-moving     2355\n",
       "Handlers-cleaners    2072\n",
       "Farming-fishing      1490\n",
       "Tech-support         1446\n",
       "Protective-serv       983\n",
       "Priv-house-serv       242\n",
       "Armed-Forces           15\n",
       "Name: count, dtype: int64"
      ]
     },
     "execution_count": 8,
     "metadata": {},
     "output_type": "execute_result"
    }
   ],
   "source": [
    "df.occupation.value_counts()"
   ]
  },
  {
   "cell_type": "code",
   "execution_count": 9,
   "id": "3a5b426e-a55f-484b-97bf-6870b40fb364",
   "metadata": {},
   "outputs": [
    {
     "data": {
      "text/plain": [
       "age\n",
       "36    1348\n",
       "35    1337\n",
       "33    1335\n",
       "23    1329\n",
       "31    1325\n",
       "      ... \n",
       "88       6\n",
       "85       5\n",
       "87       3\n",
       "89       2\n",
       "86       1\n",
       "Name: count, Length: 74, dtype: int64"
      ]
     },
     "execution_count": 9,
     "metadata": {},
     "output_type": "execute_result"
    }
   ],
   "source": [
    "df.age.value_counts()"
   ]
  },
  {
   "cell_type": "code",
   "execution_count": 10,
   "id": "7d45f813-0354-4674-baa7-2ab5b59cfa3e",
   "metadata": {},
   "outputs": [
    {
     "data": {
      "text/plain": [
       "workclass\n",
       "Private             33906\n",
       "Self-emp-not-inc     3862\n",
       "Local-gov            3136\n",
       "?                    2799\n",
       "State-gov            1981\n",
       "Self-emp-inc         1695\n",
       "Federal-gov          1432\n",
       "Without-pay            21\n",
       "Never-worked           10\n",
       "Name: count, dtype: int64"
      ]
     },
     "execution_count": 10,
     "metadata": {},
     "output_type": "execute_result"
    }
   ],
   "source": [
    "df.workclass.value_counts()"
   ]
  },
  {
   "cell_type": "code",
   "execution_count": 11,
   "id": "24e8c7c3-80b6-406d-9563-b16d82d18073",
   "metadata": {},
   "outputs": [
    {
     "data": {
      "text/plain": [
       "education\n",
       "HS-grad         15784\n",
       "Some-college    10878\n",
       "Bachelors        8025\n",
       "Masters          2657\n",
       "Assoc-voc        2061\n",
       "11th             1812\n",
       "Assoc-acdm       1601\n",
       "10th             1389\n",
       "7th-8th           955\n",
       "Prof-school       834\n",
       "9th               756\n",
       "12th              657\n",
       "Doctorate         594\n",
       "5th-6th           509\n",
       "1st-4th           247\n",
       "Preschool          83\n",
       "Name: count, dtype: int64"
      ]
     },
     "execution_count": 11,
     "metadata": {},
     "output_type": "execute_result"
    }
   ],
   "source": [
    "df.education.value_counts()"
   ]
  },
  {
   "cell_type": "code",
   "execution_count": 12,
   "id": "b7bdcfa2-a184-4c11-9b6b-357ff8b5746a",
   "metadata": {},
   "outputs": [
    {
     "data": {
      "text/plain": [
       "marital-status\n",
       "Married-civ-spouse       22379\n",
       "Never-married            16117\n",
       "Divorced                  6633\n",
       "Separated                 1530\n",
       "Widowed                   1518\n",
       "Married-spouse-absent      628\n",
       "Married-AF-spouse           37\n",
       "Name: count, dtype: int64"
      ]
     },
     "execution_count": 12,
     "metadata": {},
     "output_type": "execute_result"
    }
   ],
   "source": [
    "df[\"marital-status\"].value_counts()"
   ]
  },
  {
   "cell_type": "code",
   "execution_count": 13,
   "id": "2b1bd08a-f16a-485d-8d4c-273d1d254b2d",
   "metadata": {},
   "outputs": [],
   "source": [
    "df.replace({\"?\":\"Others\"}, inplace=True)"
   ]
  },
  {
   "cell_type": "code",
   "execution_count": 16,
   "id": "10e7b284-c99a-4329-9b6b-20c93ec15a8f",
   "metadata": {},
   "outputs": [],
   "source": [
    "df['workclass'] = df['workclass'].replace({\"Others\": \"NotListed\", \"?\": \"NotListed\"})"
   ]
  },
  {
   "cell_type": "code",
   "execution_count": 17,
   "id": "e704bb17-4c5a-4f94-bf0c-c8d16d768193",
   "metadata": {},
   "outputs": [
    {
     "data": {
      "text/html": [
       "<div>\n",
       "<style scoped>\n",
       "    .dataframe tbody tr th:only-of-type {\n",
       "        vertical-align: middle;\n",
       "    }\n",
       "\n",
       "    .dataframe tbody tr th {\n",
       "        vertical-align: top;\n",
       "    }\n",
       "\n",
       "    .dataframe thead th {\n",
       "        text-align: right;\n",
       "    }\n",
       "</style>\n",
       "<table border=\"1\" class=\"dataframe\">\n",
       "  <thead>\n",
       "    <tr style=\"text-align: right;\">\n",
       "      <th></th>\n",
       "      <th>age</th>\n",
       "      <th>workclass</th>\n",
       "      <th>fnlwgt</th>\n",
       "      <th>education</th>\n",
       "      <th>educational-num</th>\n",
       "      <th>marital-status</th>\n",
       "      <th>occupation</th>\n",
       "      <th>relationship</th>\n",
       "      <th>race</th>\n",
       "      <th>gender</th>\n",
       "      <th>capital-gain</th>\n",
       "      <th>capital-loss</th>\n",
       "      <th>hours-per-week</th>\n",
       "      <th>native-country</th>\n",
       "      <th>income</th>\n",
       "    </tr>\n",
       "  </thead>\n",
       "  <tbody>\n",
       "    <tr>\n",
       "      <th>0</th>\n",
       "      <td>25</td>\n",
       "      <td>Private</td>\n",
       "      <td>226802</td>\n",
       "      <td>11th</td>\n",
       "      <td>7</td>\n",
       "      <td>Never-married</td>\n",
       "      <td>Machine-op-inspct</td>\n",
       "      <td>Own-child</td>\n",
       "      <td>Black</td>\n",
       "      <td>Male</td>\n",
       "      <td>0</td>\n",
       "      <td>0</td>\n",
       "      <td>40</td>\n",
       "      <td>United-States</td>\n",
       "      <td>&lt;=50K</td>\n",
       "    </tr>\n",
       "    <tr>\n",
       "      <th>1</th>\n",
       "      <td>38</td>\n",
       "      <td>Private</td>\n",
       "      <td>89814</td>\n",
       "      <td>HS-grad</td>\n",
       "      <td>9</td>\n",
       "      <td>Married-civ-spouse</td>\n",
       "      <td>Farming-fishing</td>\n",
       "      <td>Husband</td>\n",
       "      <td>White</td>\n",
       "      <td>Male</td>\n",
       "      <td>0</td>\n",
       "      <td>0</td>\n",
       "      <td>50</td>\n",
       "      <td>United-States</td>\n",
       "      <td>&lt;=50K</td>\n",
       "    </tr>\n",
       "    <tr>\n",
       "      <th>2</th>\n",
       "      <td>28</td>\n",
       "      <td>Local-gov</td>\n",
       "      <td>336951</td>\n",
       "      <td>Assoc-acdm</td>\n",
       "      <td>12</td>\n",
       "      <td>Married-civ-spouse</td>\n",
       "      <td>Protective-serv</td>\n",
       "      <td>Husband</td>\n",
       "      <td>White</td>\n",
       "      <td>Male</td>\n",
       "      <td>0</td>\n",
       "      <td>0</td>\n",
       "      <td>40</td>\n",
       "      <td>United-States</td>\n",
       "      <td>&gt;50K</td>\n",
       "    </tr>\n",
       "    <tr>\n",
       "      <th>3</th>\n",
       "      <td>44</td>\n",
       "      <td>Private</td>\n",
       "      <td>160323</td>\n",
       "      <td>Some-college</td>\n",
       "      <td>10</td>\n",
       "      <td>Married-civ-spouse</td>\n",
       "      <td>Machine-op-inspct</td>\n",
       "      <td>Husband</td>\n",
       "      <td>Black</td>\n",
       "      <td>Male</td>\n",
       "      <td>7688</td>\n",
       "      <td>0</td>\n",
       "      <td>40</td>\n",
       "      <td>United-States</td>\n",
       "      <td>&gt;50K</td>\n",
       "    </tr>\n",
       "    <tr>\n",
       "      <th>4</th>\n",
       "      <td>18</td>\n",
       "      <td>NotListed</td>\n",
       "      <td>103497</td>\n",
       "      <td>Some-college</td>\n",
       "      <td>10</td>\n",
       "      <td>Never-married</td>\n",
       "      <td>Others</td>\n",
       "      <td>Own-child</td>\n",
       "      <td>White</td>\n",
       "      <td>Female</td>\n",
       "      <td>0</td>\n",
       "      <td>0</td>\n",
       "      <td>30</td>\n",
       "      <td>United-States</td>\n",
       "      <td>&lt;=50K</td>\n",
       "    </tr>\n",
       "  </tbody>\n",
       "</table>\n",
       "</div>"
      ],
      "text/plain": [
       "   age  workclass  fnlwgt     education  educational-num      marital-status  \\\n",
       "0   25    Private  226802          11th                7       Never-married   \n",
       "1   38    Private   89814       HS-grad                9  Married-civ-spouse   \n",
       "2   28  Local-gov  336951    Assoc-acdm               12  Married-civ-spouse   \n",
       "3   44    Private  160323  Some-college               10  Married-civ-spouse   \n",
       "4   18  NotListed  103497  Some-college               10       Never-married   \n",
       "\n",
       "          occupation relationship   race  gender  capital-gain  capital-loss  \\\n",
       "0  Machine-op-inspct    Own-child  Black    Male             0             0   \n",
       "1    Farming-fishing      Husband  White    Male             0             0   \n",
       "2    Protective-serv      Husband  White    Male             0             0   \n",
       "3  Machine-op-inspct      Husband  Black    Male          7688             0   \n",
       "4             Others    Own-child  White  Female             0             0   \n",
       "\n",
       "   hours-per-week native-country income  \n",
       "0              40  United-States  <=50K  \n",
       "1              50  United-States  <=50K  \n",
       "2              40  United-States   >50K  \n",
       "3              40  United-States   >50K  \n",
       "4              30  United-States  <=50K  "
      ]
     },
     "execution_count": 17,
     "metadata": {},
     "output_type": "execute_result"
    }
   ],
   "source": [
    "df.head()"
   ]
  },
  {
   "cell_type": "code",
   "execution_count": 18,
   "id": "023bc38d-a8db-43f9-bce4-539a655ca88b",
   "metadata": {},
   "outputs": [],
   "source": [
    "df = df[df[\"workclass\"] != \"Without-pay\"]\n",
    "df = df[df[\"workclass\"] != \"Never-worked\"]"
   ]
  },
  {
   "cell_type": "code",
   "execution_count": 19,
   "id": "ad903121-dbc1-4822-9b63-c27008d17d53",
   "metadata": {},
   "outputs": [
    {
     "data": {
      "text/plain": [
       "workclass\n",
       "Private             33906\n",
       "Self-emp-not-inc     3862\n",
       "Local-gov            3136\n",
       "NotListed            2799\n",
       "State-gov            1981\n",
       "Self-emp-inc         1695\n",
       "Federal-gov          1432\n",
       "Name: count, dtype: int64"
      ]
     },
     "execution_count": 19,
     "metadata": {},
     "output_type": "execute_result"
    }
   ],
   "source": [
    "df.workclass.value_counts()"
   ]
  },
  {
   "cell_type": "code",
   "execution_count": 20,
   "id": "8a7db779-568a-4926-b267-028a98ecd89d",
   "metadata": {},
   "outputs": [
    {
     "data": {
      "text/plain": [
       "income\n",
       "<=50K    37126\n",
       ">50K     11685\n",
       "Name: count, dtype: int64"
      ]
     },
     "execution_count": 20,
     "metadata": {},
     "output_type": "execute_result"
    }
   ],
   "source": [
    "df.income.value_counts()"
   ]
  },
  {
   "cell_type": "code",
   "execution_count": 21,
   "id": "e69219dd-c259-45c2-ae1f-7a28fbd7cef9",
   "metadata": {},
   "outputs": [
    {
     "data": {
      "text/plain": [
       "education\n",
       "HS-grad         15768\n",
       "Some-college    10873\n",
       "Bachelors        8025\n",
       "Masters          2657\n",
       "Assoc-voc        2061\n",
       "11th             1809\n",
       "Assoc-acdm       1599\n",
       "10th             1387\n",
       "7th-8th           952\n",
       "Prof-school       834\n",
       "9th               756\n",
       "12th              657\n",
       "Doctorate         594\n",
       "5th-6th           509\n",
       "1st-4th           247\n",
       "Preschool          83\n",
       "Name: count, dtype: int64"
      ]
     },
     "execution_count": 21,
     "metadata": {},
     "output_type": "execute_result"
    }
   ],
   "source": [
    "df.education.value_counts()"
   ]
  },
  {
   "cell_type": "code",
   "execution_count": 22,
   "id": "fccc8ca8-9a88-4a41-975b-0d89300b0a7f",
   "metadata": {},
   "outputs": [],
   "source": [
    "df = df[df[\"education\"] != \"Preschool\"]\n",
    "df = df[df[\"education\"] != \"1st-4th\"]\n",
    "df = df[df[\"education\"] != \"5th-6th\"]"
   ]
  },
  {
   "cell_type": "code",
   "execution_count": 23,
   "id": "85fd331c-0450-4326-9747-ba538f97b21b",
   "metadata": {},
   "outputs": [
    {
     "data": {
      "text/plain": [
       "education\n",
       "HS-grad         15768\n",
       "Some-college    10873\n",
       "Bachelors        8025\n",
       "Masters          2657\n",
       "Assoc-voc        2061\n",
       "11th             1809\n",
       "Assoc-acdm       1599\n",
       "10th             1387\n",
       "7th-8th           952\n",
       "Prof-school       834\n",
       "9th               756\n",
       "12th              657\n",
       "Doctorate         594\n",
       "Name: count, dtype: int64"
      ]
     },
     "execution_count": 23,
     "metadata": {},
     "output_type": "execute_result"
    }
   ],
   "source": [
    "df.education.value_counts()"
   ]
  },
  {
   "cell_type": "code",
   "execution_count": 24,
   "id": "fd52a80c-6133-4124-af35-172c04767f0d",
   "metadata": {},
   "outputs": [],
   "source": [
    "df.drop(columns=[\"education\"], inplace=True)\n",
    "df.drop(columns=[\"fnlwgt\"], inplace=True)"
   ]
  },
  {
   "cell_type": "code",
   "execution_count": 25,
   "id": "87f34515-aed1-4da2-b51f-2c4629c8647f",
   "metadata": {},
   "outputs": [
    {
     "data": {
      "text/plain": [
       "{'whiskers': [<matplotlib.lines.Line2D at 0x21b0f26dd10>,\n",
       "  <matplotlib.lines.Line2D at 0x21b0f26de50>],\n",
       " 'caps': [<matplotlib.lines.Line2D at 0x21b0f26df90>,\n",
       "  <matplotlib.lines.Line2D at 0x21b0f26e0d0>],\n",
       " 'boxes': [<matplotlib.lines.Line2D at 0x21b0f1d9a90>],\n",
       " 'medians': [<matplotlib.lines.Line2D at 0x21b0f26e210>],\n",
       " 'fliers': [<matplotlib.lines.Line2D at 0x21b0f26e350>],\n",
       " 'means': []}"
      ]
     },
     "execution_count": 25,
     "metadata": {},
     "output_type": "execute_result"
    },
    {
     "data": {
      "image/png": "[encoded data removed]",
      "text/plain": [
       "<Figure size 640x480 with 1 Axes>"
      ]
     },
     "metadata": {},
     "output_type": "display_data"
    }
   ],
   "source": [
    "plt.boxplot(df.age) # can see what are the outliers"
   ]
  },
  {
   "cell_type": "code",
   "execution_count": 26,
   "id": "afc8ace7-dfae-4d2a-ab53-f40f56a5a3c9",
   "metadata": {},
   "outputs": [],
   "source": [
    "df = df[(df[\"age\"]<=75) & (df[\"age\"]>=17)]"
   ]
  },
  {
   "cell_type": "code",
   "execution_count": 27,
   "id": "49198d1e-8f2b-49fa-8439-06fecfdcdf80",
   "metadata": {},
   "outputs": [
    {
     "data": {
      "text/plain": [
       "{'whiskers': [<matplotlib.lines.Line2D at 0x21b0febbd90>,\n",
       "  <matplotlib.lines.Line2D at 0x21b0febbed0>],\n",
       " 'caps': [<matplotlib.lines.Line2D at 0x21b0fee4050>,\n",
       "  <matplotlib.lines.Line2D at 0x21b0fee4190>],\n",
       " 'boxes': [<matplotlib.lines.Line2D at 0x21b0febbc50>],\n",
       " 'medians': [<matplotlib.lines.Line2D at 0x21b0fee42d0>],\n",
       " 'fliers': [<matplotlib.lines.Line2D at 0x21b0fee4410>],\n",
       " 'means': []}"
      ]
     },
     "execution_count": 27,
     "metadata": {},
     "output_type": "execute_result"
    },
    {
     "data": {
      "image/png": "[encoded data removed]",
      "text/plain": [
       "<Figure size 640x480 with 1 Axes>"
      ]
     },
     "metadata": {},
     "output_type": "display_data"
    }
   ],
   "source": [
    "plt.boxplot(df.age)"
   ]
  },
  {
   "cell_type": "code",
   "execution_count": 28,
   "id": "434455a7-5037-4d2e-9828-dca83fbf30de",
   "metadata": {},
   "outputs": [],
   "source": [
    "encoder = LabelEncoder()\n",
    "df[\"workclass\"] = encoder.fit_transform(df[\"workclass\"])\n",
    "df[\"marital-status\"] = encoder.fit_transform(df[\"marital-status\"])\n",
    "df[\"occupation\"] = encoder.fit_transform(df[\"occupation\"])\n",
    "df[\"relationship\"] = encoder.fit_transform(df[\"relationship\"])\n",
    "df[\"race\"] = encoder.fit_transform(df[\"race\"])\n",
    "df[\"gender\"] = encoder.fit_transform(df[\"gender\"])\n",
    "df[\"capital-gain\"] = encoder.fit_transform(df[\"capital-gain\"])\n",
    "df[\"native-country\"] = encoder.fit_transform(df[\"native-country\"])"
   ]
  },
  {
   "cell_type": "code",
   "execution_count": 29,
   "id": "34d16b01-c3ae-4416-8bb2-96bcc23cb7fa",
   "metadata": {},
   "outputs": [
    {
     "data": {
      "text/plain": [
       "Index(['age', 'workclass', 'educational-num', 'marital-status', 'occupation',\n",
       "       'relationship', 'race', 'gender', 'capital-gain', 'capital-loss',\n",
       "       'hours-per-week', 'native-country', 'income'],\n",
       "      dtype='object')"
      ]
     },
     "execution_count": 29,
     "metadata": {},
     "output_type": "execute_result"
    }
   ],
   "source": [
    "df1 = df\n",
    "X = df.drop(columns = [\"income\"])\n",
    "Y = df[\"income\"]\n",
    "df.columns"
   ]
  },
  {
   "cell_type": "code",
   "execution_count": 30,
   "id": "b04c6186-8d9a-4292-a6b1-2e206012f505",
   "metadata": {},
   "outputs": [],
   "source": [
    "MinMax = MinMaxScaler()\n",
    "X = MinMax.fit_transform(X)"
   ]
  },
  {
   "cell_type": "code",
   "execution_count": 32,
   "id": "ddb65f99-26dd-480f-a270-31efe3988b53",
   "metadata": {},
   "outputs": [],
   "source": [
    "Xtrain, Xtest, Ytrain, Ytest = train_test_split(X,Y, test_size=0.2, random_state=46, stratify=Y)"
   ]
  },
  {
   "cell_type": "code",
   "execution_count": 33,
   "id": "84a79940-5fd4-466a-a97c-2a87a45a647b",
   "metadata": {},
   "outputs": [
    {
     "data": {
      "text/plain": [
       "array([[0.01724138, 0.5       , 0.25      , ..., 0.        , 0.23469388,\n",
       "        0.95121951],\n",
       "       [0.32758621, 0.5       , 0.66666667, ..., 0.        , 0.60204082,\n",
       "        0.95121951],\n",
       "       [0.20689655, 0.5       , 0.58333333, ..., 0.45316804, 0.39795918,\n",
       "        0.95121951],\n",
       "       ...,\n",
       "       [0.20689655, 0.33333333, 0.5       , ..., 0.        , 0.13265306,\n",
       "        0.95121951],\n",
       "       [0.43103448, 0.5       , 0.66666667, ..., 0.        , 0.39795918,\n",
       "        0.95121951],\n",
       "       [0.9137931 , 0.5       , 0.16666667, ..., 0.        , 0.19387755,\n",
       "        0.95121951]])"
      ]
     },
     "execution_count": 33,
     "metadata": {},
     "output_type": "execute_result"
    }
   ],
   "source": [
    "Xtest"
   ]
  },
  {
   "cell_type": "code",
   "execution_count": 34,
   "id": "6e0de9b9-f6d0-4dd1-8997-44211c397bcf",
   "metadata": {},
   "outputs": [],
   "source": [
    "from sklearn.model_selection import train_test_split\n",
    "from sklearn.neighbors import KNeighborsClassifier\n",
    "KNN = KNeighborsClassifier()\n",
    "KNN.fit(Xtrain, Ytrain)\n",
    "predict = KNN.predict(Xtest)"
   ]
  },
  {
   "cell_type": "code",
   "execution_count": 35,
   "id": "c376d688-8692-494c-b420-beeac84158fe",
   "metadata": {},
   "outputs": [
    {
     "data": {
      "text/html": [
       "<div>\n",
       "<style scoped>\n",
       "    .dataframe tbody tr th:only-of-type {\n",
       "        vertical-align: middle;\n",
       "    }\n",
       "\n",
       "    .dataframe tbody tr th {\n",
       "        vertical-align: top;\n",
       "    }\n",
       "\n",
       "    .dataframe thead th {\n",
       "        text-align: right;\n",
       "    }\n",
       "</style>\n",
       "<table border=\"1\" class=\"dataframe\">\n",
       "  <thead>\n",
       "    <tr style=\"text-align: right;\">\n",
       "      <th></th>\n",
       "      <th>precision</th>\n",
       "      <th>recall</th>\n",
       "      <th>f1-score</th>\n",
       "      <th>support</th>\n",
       "    </tr>\n",
       "  </thead>\n",
       "  <tbody>\n",
       "    <tr>\n",
       "      <th>&lt;=50K</th>\n",
       "      <td>0.881801</td>\n",
       "      <td>0.899667</td>\n",
       "      <td>0.890644</td>\n",
       "      <td>7206.000000</td>\n",
       "    </tr>\n",
       "    <tr>\n",
       "      <th>&gt;50K</th>\n",
       "      <td>0.667127</td>\n",
       "      <td>0.625108</td>\n",
       "      <td>0.645434</td>\n",
       "      <td>2318.000000</td>\n",
       "    </tr>\n",
       "    <tr>\n",
       "      <th>accuracy</th>\n",
       "      <td>0.832843</td>\n",
       "      <td>0.832843</td>\n",
       "      <td>0.832843</td>\n",
       "      <td>0.832843</td>\n",
       "    </tr>\n",
       "    <tr>\n",
       "      <th>macro avg</th>\n",
       "      <td>0.774464</td>\n",
       "      <td>0.762387</td>\n",
       "      <td>0.768039</td>\n",
       "      <td>9524.000000</td>\n",
       "    </tr>\n",
       "    <tr>\n",
       "      <th>weighted avg</th>\n",
       "      <td>0.829552</td>\n",
       "      <td>0.832843</td>\n",
       "      <td>0.830964</td>\n",
       "      <td>9524.000000</td>\n",
       "    </tr>\n",
       "  </tbody>\n",
       "</table>\n",
       "</div>"
      ],
      "text/plain": [
       "              precision    recall  f1-score      support\n",
       "<=50K          0.881801  0.899667  0.890644  7206.000000\n",
       ">50K           0.667127  0.625108  0.645434  2318.000000\n",
       "accuracy       0.832843  0.832843  0.832843     0.832843\n",
       "macro avg      0.774464  0.762387  0.768039  9524.000000\n",
       "weighted avg   0.829552  0.832843  0.830964  9524.000000"
      ]
     },
     "execution_count": 35,
     "metadata": {},
     "output_type": "execute_result"
    }
   ],
   "source": [
    "report = classification_report(Ytest, predict, output_dict = True)\n",
    "pd.DataFrame(report).transpose()"
   ]
  },
  {
   "cell_type": "code",
   "execution_count": 36,
   "id": "5f6b608c-f0d8-4b44-8a79-cbdc40154d67",
   "metadata": {},
   "outputs": [
    {
     "data": {
      "text/plain": [
       "<Axes: >"
      ]
     },
     "execution_count": 36,
     "metadata": {},
     "output_type": "execute_result"
    },
    {
     "data": {
      "image/png": "[encoded data removed]",
      "text/plain": [
       "<Figure size 640x480 with 2 Axes>"
      ]
     },
     "metadata": {},
     "output_type": "display_data"
    }
   ],
   "source": [
    "cm = confusion_matrix(Ytest, predict)\n",
    "sns.heatmap(cm, annot=True, fmt='d', cmap='Blues')"
   ]
  },
  {
   "cell_type": "code",
   "execution_count": 37,
   "id": "158e1f74-63e9-4e89-b49d-4106a21b4b0f",
   "metadata": {},
   "outputs": [
    {
     "data": {
      "text/html": [
       "<div>\n",
       "<style scoped>\n",
       "    .dataframe tbody tr th:only-of-type {\n",
       "        vertical-align: middle;\n",
       "    }\n",
       "\n",
       "    .dataframe tbody tr th {\n",
       "        vertical-align: top;\n",
       "    }\n",
       "\n",
       "    .dataframe thead th {\n",
       "        text-align: right;\n",
       "    }\n",
       "</style>\n",
       "<table border=\"1\" class=\"dataframe\">\n",
       "  <thead>\n",
       "    <tr style=\"text-align: right;\">\n",
       "      <th></th>\n",
       "      <th>precision</th>\n",
       "      <th>recall</th>\n",
       "      <th>f1-score</th>\n",
       "      <th>support</th>\n",
       "    </tr>\n",
       "  </thead>\n",
       "  <tbody>\n",
       "    <tr>\n",
       "      <th>&lt;=50K</th>\n",
       "      <td>0.843228</td>\n",
       "      <td>0.938246</td>\n",
       "      <td>0.888203</td>\n",
       "      <td>7206.000000</td>\n",
       "    </tr>\n",
       "    <tr>\n",
       "      <th>&gt;50K</th>\n",
       "      <td>0.704515</td>\n",
       "      <td>0.457722</td>\n",
       "      <td>0.554916</td>\n",
       "      <td>2318.000000</td>\n",
       "    </tr>\n",
       "    <tr>\n",
       "      <th>accuracy</th>\n",
       "      <td>0.821294</td>\n",
       "      <td>0.821294</td>\n",
       "      <td>0.821294</td>\n",
       "      <td>0.821294</td>\n",
       "    </tr>\n",
       "    <tr>\n",
       "      <th>macro avg</th>\n",
       "      <td>0.773872</td>\n",
       "      <td>0.697984</td>\n",
       "      <td>0.721560</td>\n",
       "      <td>9524.000000</td>\n",
       "    </tr>\n",
       "    <tr>\n",
       "      <th>weighted avg</th>\n",
       "      <td>0.809467</td>\n",
       "      <td>0.821294</td>\n",
       "      <td>0.807086</td>\n",
       "      <td>9524.000000</td>\n",
       "    </tr>\n",
       "  </tbody>\n",
       "</table>\n",
       "</div>"
      ],
      "text/plain": [
       "              precision    recall  f1-score      support\n",
       "<=50K          0.843228  0.938246  0.888203  7206.000000\n",
       ">50K           0.704515  0.457722  0.554916  2318.000000\n",
       "accuracy       0.821294  0.821294  0.821294     0.821294\n",
       "macro avg      0.773872  0.697984  0.721560  9524.000000\n",
       "weighted avg   0.809467  0.821294  0.807086  9524.000000"
      ]
     },
     "execution_count": 37,
     "metadata": {},
     "output_type": "execute_result"
    }
   ],
   "source": [
    "from sklearn.linear_model import LogisticRegression\n",
    "LogReg = LogisticRegression()\n",
    "LogReg.fit(Xtrain, Ytrain)\n",
    "predict2 = LogReg.predict(Xtest)\n",
    "report = classification_report(Ytest, predict2, output_dict = True)\n",
    "pd.DataFrame(report).transpose()"
   ]
  },
  {
   "cell_type": "code",
   "execution_count": 38,
   "id": "67b07f6a-4dbf-4d48-a5ff-ce81022e4e9f",
   "metadata": {},
   "outputs": [
    {
     "data": {
      "text/plain": [
       "<Axes: >"
      ]
     },
     "execution_count": 38,
     "metadata": {},
     "output_type": "execute_result"
    },
    {
     "data": {
      "image/png": "[encoded data removed]",
      "text/plain": [
       "<Figure size 640x480 with 2 Axes>"
      ]
     },
     "metadata": {},
     "output_type": "display_data"
    }
   ],
   "source": [
    "cm = confusion_matrix(Ytest, predict2)\n",
    "sns.heatmap(cm, annot=True, fmt='d', cmap='Blues')"
   ]
  },
  {
   "cell_type": "code",
   "execution_count": 39,
   "id": "b7281216-5427-4f8b-9bc4-a1901aaf3828",
   "metadata": {},
   "outputs": [],
   "source": [
    "from sklearn.svm import SVC\n",
    "SVM = SVC()\n",
    "SVM.fit(Xtrain, Ytrain)\n",
    "predict3 = SVM.predict(Xtest)"
   ]
  },
  {
   "cell_type": "code",
   "execution_count": 40,
   "id": "45fd94e4-bb98-4462-bf6e-dd5268075403",
   "metadata": {},
   "outputs": [
    {
     "data": {
      "text/plain": [
       "<Axes: >"
      ]
     },
     "execution_count": 40,
     "metadata": {},
     "output_type": "execute_result"
    },
    {
     "data": {
      "image/png": "[encoded data removed]",
      "text/plain": [
       "<Figure size 640x480 with 2 Axes>"
      ]
     },
     "metadata": {},
     "output_type": "display_data"
    }
   ],
   "source": [
    "cm = confusion_matrix(Ytest, predict3)\n",
    "sns.heatmap(cm, annot=True, fmt='d', cmap='Blues')"
   ]
  },
  {
   "cell_type": "code",
   "execution_count": 41,
   "id": "ddca4faa-8d8e-4fa5-9636-3963189a7684",
   "metadata": {},
   "outputs": [
    {
     "data": {
      "text/plain": [
       "0.8513229735405292"
      ]
     },
     "execution_count": 41,
     "metadata": {},
     "output_type": "execute_result"
    }
   ],
   "source": [
    "from sklearn.neural_network import MLPClassifier\n",
    "clf = MLPClassifier(solver=\"adam\", hidden_layer_sizes=(24,15), random_state=2, max_iter=10000)\n",
    "clf.fit(Xtrain,Ytrain)\n",
    "predict4 = clf.predict(Xtest)\n",
    "accuracy_score(predict4, Ytest)"
   ]
  },
  {
   "cell_type": "code",
   "execution_count": 42,
   "id": "f20cce1f-f0b4-47a9-91d1-dd03f915d224",
   "metadata": {},
   "outputs": [
    {
     "data": {
      "text/html": [
       "<div>\n",
       "<style scoped>\n",
       "    .dataframe tbody tr th:only-of-type {\n",
       "        vertical-align: middle;\n",
       "    }\n",
       "\n",
       "    .dataframe tbody tr th {\n",
       "        vertical-align: top;\n",
       "    }\n",
       "\n",
       "    .dataframe thead th {\n",
       "        text-align: right;\n",
       "    }\n",
       "</style>\n",
       "<table border=\"1\" class=\"dataframe\">\n",
       "  <thead>\n",
       "    <tr style=\"text-align: right;\">\n",
       "      <th></th>\n",
       "      <th>precision</th>\n",
       "      <th>recall</th>\n",
       "      <th>f1-score</th>\n",
       "      <th>support</th>\n",
       "    </tr>\n",
       "  </thead>\n",
       "  <tbody>\n",
       "    <tr>\n",
       "      <th>&lt;=50K</th>\n",
       "      <td>0.868199</td>\n",
       "      <td>0.943381</td>\n",
       "      <td>0.904230</td>\n",
       "      <td>7206.000000</td>\n",
       "    </tr>\n",
       "    <tr>\n",
       "      <th>&gt;50K</th>\n",
       "      <td>0.759150</td>\n",
       "      <td>0.554789</td>\n",
       "      <td>0.641077</td>\n",
       "      <td>2318.000000</td>\n",
       "    </tr>\n",
       "    <tr>\n",
       "      <th>accuracy</th>\n",
       "      <td>0.848803</td>\n",
       "      <td>0.848803</td>\n",
       "      <td>0.848803</td>\n",
       "      <td>0.848803</td>\n",
       "    </tr>\n",
       "    <tr>\n",
       "      <th>macro avg</th>\n",
       "      <td>0.813675</td>\n",
       "      <td>0.749085</td>\n",
       "      <td>0.772653</td>\n",
       "      <td>9524.000000</td>\n",
       "    </tr>\n",
       "    <tr>\n",
       "      <th>weighted avg</th>\n",
       "      <td>0.841658</td>\n",
       "      <td>0.848803</td>\n",
       "      <td>0.840182</td>\n",
       "      <td>9524.000000</td>\n",
       "    </tr>\n",
       "  </tbody>\n",
       "</table>\n",
       "</div>"
      ],
      "text/plain": [
       "              precision    recall  f1-score      support\n",
       "<=50K          0.868199  0.943381  0.904230  7206.000000\n",
       ">50K           0.759150  0.554789  0.641077  2318.000000\n",
       "accuracy       0.848803  0.848803  0.848803     0.848803\n",
       "macro avg      0.813675  0.749085  0.772653  9524.000000\n",
       "weighted avg   0.841658  0.848803  0.840182  9524.000000"
      ]
     },
     "execution_count": 42,
     "metadata": {},
     "output_type": "execute_result"
    }
   ],
   "source": [
    "report = classification_report(Ytest, predict3, output_dict = True)\n",
    "pd.DataFrame(report).transpose()"
   ]
  },
  {
   "cell_type": "code",
   "execution_count": 43,
   "id": "af8b90e4-1d74-4013-9f40-d8429ac059e7",
   "metadata": {},
   "outputs": [
    {
     "data": {
      "text/plain": [
       "<Axes: >"
      ]
     },
     "execution_count": 43,
     "metadata": {},
     "output_type": "execute_result"
    },
    {
     "data": {
      "image/png": "[encoded data removed]",
      "text/plain": [
       "<Figure size 640x480 with 2 Axes>"
      ]
     },
     "metadata": {},
     "output_type": "display_data"
    }
   ],
   "source": [
    "cm = confusion_matrix(Ytest, predict4)\n",
    "sns.heatmap(cm, annot=True, fmt='d', cmap='Blues')"
   ]
  },
  {
   "cell_type": "code",
   "execution_count": 44,
   "id": "3c7f2117-d5a7-4608-8e62-d426a19c3b9f",
   "metadata": {},
   "outputs": [
    {
     "data": {
      "text/html": [
       "<div>\n",
       "<style scoped>\n",
       "    .dataframe tbody tr th:only-of-type {\n",
       "        vertical-align: middle;\n",
       "    }\n",
       "\n",
       "    .dataframe tbody tr th {\n",
       "        vertical-align: top;\n",
       "    }\n",
       "\n",
       "    .dataframe thead th {\n",
       "        text-align: right;\n",
       "    }\n",
       "</style>\n",
       "<table border=\"1\" class=\"dataframe\">\n",
       "  <thead>\n",
       "    <tr style=\"text-align: right;\">\n",
       "      <th></th>\n",
       "      <th>precision</th>\n",
       "      <th>recall</th>\n",
       "      <th>f1-score</th>\n",
       "      <th>support</th>\n",
       "    </tr>\n",
       "  </thead>\n",
       "  <tbody>\n",
       "    <tr>\n",
       "      <th>&lt;=50K</th>\n",
       "      <td>0.876169</td>\n",
       "      <td>0.935748</td>\n",
       "      <td>0.904979</td>\n",
       "      <td>7206.000000</td>\n",
       "    </tr>\n",
       "    <tr>\n",
       "      <th>&gt;50K</th>\n",
       "      <td>0.746718</td>\n",
       "      <td>0.588870</td>\n",
       "      <td>0.658466</td>\n",
       "      <td>2318.000000</td>\n",
       "    </tr>\n",
       "    <tr>\n",
       "      <th>accuracy</th>\n",
       "      <td>0.851323</td>\n",
       "      <td>0.851323</td>\n",
       "      <td>0.851323</td>\n",
       "      <td>0.851323</td>\n",
       "    </tr>\n",
       "    <tr>\n",
       "      <th>macro avg</th>\n",
       "      <td>0.811444</td>\n",
       "      <td>0.762309</td>\n",
       "      <td>0.781723</td>\n",
       "      <td>9524.000000</td>\n",
       "    </tr>\n",
       "    <tr>\n",
       "      <th>weighted avg</th>\n",
       "      <td>0.844663</td>\n",
       "      <td>0.851323</td>\n",
       "      <td>0.844982</td>\n",
       "      <td>9524.000000</td>\n",
       "    </tr>\n",
       "  </tbody>\n",
       "</table>\n",
       "</div>"
      ],
      "text/plain": [
       "              precision    recall  f1-score      support\n",
       "<=50K          0.876169  0.935748  0.904979  7206.000000\n",
       ">50K           0.746718  0.588870  0.658466  2318.000000\n",
       "accuracy       0.851323  0.851323  0.851323     0.851323\n",
       "macro avg      0.811444  0.762309  0.781723  9524.000000\n",
       "weighted avg   0.844663  0.851323  0.844982  9524.000000"
      ]
     },
     "execution_count": 44,
     "metadata": {},
     "output_type": "execute_result"
    }
   ],
   "source": [
    "report = classification_report(Ytest, predict4, output_dict = True)\n",
    "pd.DataFrame(report).transpose()"
   ]
  },
  {
   "cell_type": "code",
   "execution_count": 45,
   "id": "2282c6d5-a419-4900-a9e0-c81d56d869fe",
   "metadata": {},
   "outputs": [
    {
     "name": "stdout",
     "output_type": "stream",
     "text": [
      "\n",
      "=== Logistic ===\n",
      "              precision    recall  f1-score   support\n",
      "\n",
      "       <=50K       0.84      0.94      0.89      7206\n",
      "        >50K       0.70      0.46      0.55      2318\n",
      "\n",
      "    accuracy                           0.82      9524\n",
      "   macro avg       0.77      0.70      0.72      9524\n",
      "weighted avg       0.81      0.82      0.81      9524\n",
      "\n"
     ]
    },
    {
     "data": {
      "image/png": "[encoded data removed]",
      "text/plain": [
       "<Figure size 640x480 with 2 Axes>"
      ]
     },
     "metadata": {},
     "output_type": "display_data"
    },
    {
     "name": "stdout",
     "output_type": "stream",
     "text": [
      "\n",
      "=== KNN ===\n",
      "              precision    recall  f1-score   support\n",
      "\n",
      "       <=50K       0.88      0.90      0.89      7206\n",
      "        >50K       0.67      0.63      0.65      2318\n",
      "\n",
      "    accuracy                           0.83      9524\n",
      "   macro avg       0.77      0.76      0.77      9524\n",
      "weighted avg       0.83      0.83      0.83      9524\n",
      "\n"
     ]
    },
    {
     "data": {
      "image/png": "[encoded data removed]",
      "text/plain": [
       "<Figure size 640x480 with 2 Axes>"
      ]
     },
     "metadata": {},
     "output_type": "display_data"
    },
    {
     "name": "stdout",
     "output_type": "stream",
     "text": [
      "\n",
      "=== SVM ===\n",
      "              precision    recall  f1-score   support\n",
      "\n",
      "       <=50K       0.87      0.94      0.90      7206\n",
      "        >50K       0.76      0.55      0.64      2318\n",
      "\n",
      "    accuracy                           0.85      9524\n",
      "   macro avg       0.81      0.75      0.77      9524\n",
      "weighted avg       0.84      0.85      0.84      9524\n",
      "\n"
     ]
    },
    {
     "data": {
      "image/png": "[encoded data removed]",
      "text/plain": [
       "<Figure size 640x480 with 2 Axes>"
      ]
     },
     "metadata": {},
     "output_type": "display_data"
    }
   ],
   "source": [
    "from sklearn.pipeline import Pipeline\n",
    "from sklearn.preprocessing import MinMaxScaler\n",
    "from sklearn.linear_model import LogisticRegression\n",
    "\n",
    "models1 = {\n",
    "    'Logistic': LogisticRegression(),\n",
    "    'KNN': KNeighborsClassifier(),\n",
    "    'SVM': SVC(probability=True)\n",
    "}\n",
    "results = {}\n",
    "for name, model in models1.items():\n",
    "    pipe = Pipeline([\n",
    "        ('scaler', MinMaxScaler()),\n",
    "        ('clf', model)\n",
    "    ])\n",
    "\n",
    "    pipe.fit(Xtrain, Ytrain)\n",
    "    preds = pipe.predict(Xtest)\n",
    "    \n",
    "    print(f\"\\n=== {name} ===\")\n",
    "    print(classification_report(Ytest, preds))\n",
    "    report = classification_report(Ytest, preds, output_dict=True)\n",
    "    metrics = report[\"weighted avg\"]\n",
    "    \n",
    "    \n",
    "    results[name] = {\n",
    "        \"Accuracy\": report[\"accuracy\"],\n",
    "        \"Precision\": metrics[\"precision\"],\n",
    "        \"Recall\": metrics[\"recall\"],\n",
    "        \"F1-score\": metrics[\"f1-score\"]\n",
    "    }\n",
    "\n",
    "    df_results = pd.DataFrame(results).T  \n",
    "    df_results = df_results.round(3)\n",
    "\n",
    "    cm = confusion_matrix(Ytest, preds)\n",
    "    sns.heatmap(cm, annot=True, fmt='d', cmap='Blues')\n",
    "    plt.title(f\"Confusion Matrix - {model}\")\n",
    "    plt.xlabel(\"Predicted\")\n",
    "    plt.ylabel(\"Actual\")\n",
    "    plt.show()"
   ]
  },
  {
   "cell_type": "code",
   "execution_count": 46,
   "id": "621d8b98-7d32-47c9-a0d1-a5c3d72713d4",
   "metadata": {},
   "outputs": [],
   "source": [
    "def build_basic_model():\n",
    "    model = tf.keras.Sequential([\n",
    "        tf.keras.layers.Input(shape=(X.shape[1],)),\n",
    "        tf.keras.layers.Dense(64, activation='relu'),\n",
    "        tf.keras.layers.Dense(1, activation='sigmoid')\n",
    "    ])\n",
    "    model.compile(optimizer='adam', loss='binary_crossentropy', metrics=['accuracy'])\n",
    "    return model"
   ]
  },
  {
   "cell_type": "code",
   "execution_count": 8,
   "id": "5ffd0583-fafd-4390-a7a7-f758eaf155be",
   "metadata": {},
   "outputs": [],
   "source": [
    "def build_deep_model():\n",
    "    model = tf.keras.Sequential([\n",
    "        tf.keras.layers.Input(shape=(X.shape[1],)),\n",
    "        tf.keras.layers.Dense(128, activation='relu'),\n",
    "        tf.keras.layers.BatchNormalization(),\n",
    "        tf.keras.layers.Dropout(0.3),\n",
    "        tf.keras.layers.Dense(64, activation='relu'),\n",
    "        tf.keras.layers.Dropout(0.2),\n",
    "        tf.keras.layers.Dense(1, activation='sigmoid')\n",
    "    ])\n",
    "    model.compile(optimizer='adam', loss='binary_crossentropy', metrics=['accuracy'])\n",
    "    return model"
   ]
  },
  {
   "cell_type": "code",
   "execution_count": 53,
   "id": "dda2b849-5698-4beb-a2b4-ca97b0adb923",
   "metadata": {},
   "outputs": [
    {
     "name": "stdout",
     "output_type": "stream",
     "text": [
      "Collecting scikeras\n",
      "  Downloading scikeras-0.13.0-py3-none-any.whl.metadata (3.1 kB)\n",
      "Collecting keras>=3.2.0 (from scikeras)\n",
      "  Downloading keras-3.10.0-py3-none-any.whl.metadata (6.0 kB)\n",
      "Requirement already satisfied: scikit-learn>=1.4.2 in c:\\users\\verma\\anaconda3\\lib\\site-packages (from scikeras) (1.6.1)\n",
      "Collecting absl-py (from keras>=3.2.0->scikeras)\n",
      "  Downloading absl_py-2.3.1-py3-none-any.whl.metadata (3.3 kB)\n",
      "Requirement already satisfied: numpy in c:\\users\\verma\\anaconda3\\lib\\site-packages (from keras>=3.2.0->scikeras) (2.1.3)\n",
      "Requirement already satisfied: rich in c:\\users\\verma\\anaconda3\\lib\\site-packages (from keras>=3.2.0->scikeras) (13.9.4)\n",
      "Collecting namex (from keras>=3.2.0->scikeras)\n",
      "  Downloading namex-0.1.0-py3-none-any.whl.metadata (322 bytes)\n",
      "Requirement already satisfied: h5py in c:\\users\\verma\\anaconda3\\lib\\site-packages (from keras>=3.2.0->scikeras) (3.12.1)\n",
      "Collecting optree (from keras>=3.2.0->scikeras)\n",
      "  Downloading optree-0.16.0-cp313-cp313-win_amd64.whl.metadata (31 kB)\n",
      "Collecting ml-dtypes (from keras>=3.2.0->scikeras)\n",
      "  Downloading ml_dtypes-0.5.1-cp313-cp313-win_amd64.whl.metadata (22 kB)\n",
      "Requirement already satisfied: packaging in c:\\users\\verma\\anaconda3\\lib\\site-packages (from keras>=3.2.0->scikeras) (24.2)\n",
      "Requirement already satisfied: scipy>=1.6.0 in c:\\users\\verma\\anaconda3\\lib\\site-packages (from scikit-learn>=1.4.2->scikeras) (1.15.3)\n",
      "Requirement already satisfied: joblib>=1.2.0 in c:\\users\\verma\\anaconda3\\lib\\site-packages (from scikit-learn>=1.4.2->scikeras) (1.4.2)\n",
      "Requirement already satisfied: threadpoolctl>=3.1.0 in c:\\users\\verma\\anaconda3\\lib\\site-packages (from scikit-learn>=1.4.2->scikeras) (3.5.0)\n",
      "Requirement already satisfied: typing-extensions>=4.6.0 in c:\\users\\verma\\anaconda3\\lib\\site-packages (from optree->keras>=3.2.0->scikeras) (4.12.2)\n",
      "Requirement already satisfied: markdown-it-py>=2.2.0 in c:\\users\\verma\\anaconda3\\lib\\site-packages (from rich->keras>=3.2.0->scikeras) (2.2.0)\n",
      "Requirement already satisfied: pygments<3.0.0,>=2.13.0 in c:\\users\\verma\\anaconda3\\lib\\site-packages (from rich->keras>=3.2.0->scikeras) (2.19.1)\n",
      "Requirement already satisfied: mdurl~=0.1 in c:\\users\\verma\\anaconda3\\lib\\site-packages (from markdown-it-py>=2.2.0->rich->keras>=3.2.0->scikeras) (0.1.0)\n",
      "Downloading scikeras-0.13.0-py3-none-any.whl (26 kB)\n",
      "Downloading keras-3.10.0-py3-none-any.whl (1.4 MB)\n",
      "   ---------------------------------------- 0.0/1.4 MB ? eta -:--:--\n",
      "   ---------------------------------------- 1.4/1.4 MB 12.7 MB/s eta 0:00:00\n",
      "Downloading absl_py-2.3.1-py3-none-any.whl (135 kB)\n",
      "Downloading ml_dtypes-0.5.1-cp313-cp313-win_amd64.whl (210 kB)\n",
      "Downloading namex-0.1.0-py3-none-any.whl (5.9 kB)\n",
      "Downloading optree-0.16.0-cp313-cp313-win_amd64.whl (317 kB)\n",
      "Installing collected packages: namex, optree, ml-dtypes, absl-py, keras, scikeras\n",
      "\n",
      "   ------------- -------------------------- 2/6 [ml-dtypes]\n",
      "   -------------------- ------------------- 3/6 [absl-py]\n",
      "   -------------------------- ------------- 4/6 [keras]\n",
      "   -------------------------- ------------- 4/6 [keras]\n",
      "   -------------------------- ------------- 4/6 [keras]\n",
      "   -------------------------- ------------- 4/6 [keras]\n",
      "   -------------------------- ------------- 4/6 [keras]\n",
      "   -------------------------- ------------- 4/6 [keras]\n",
      "   -------------------------- ------------- 4/6 [keras]\n",
      "   -------------------------- ------------- 4/6 [keras]\n",
      "   -------------------------- ------------- 4/6 [keras]\n",
      "   -------------------------- ------------- 4/6 [keras]\n",
      "   -------------------------- ------------- 4/6 [keras]\n",
      "   -------------------------- ------------- 4/6 [keras]\n",
      "   -------------------------- ------------- 4/6 [keras]\n",
      "   -------------------------- ------------- 4/6 [keras]\n",
      "   -------------------------- ------------- 4/6 [keras]\n",
      "   -------------------------- ------------- 4/6 [keras]\n",
      "   ---------------------------------------- 6/6 [scikeras]\n",
      "\n",
      "Successfully installed absl-py-2.3.1 keras-3.10.0 ml-dtypes-0.5.1 namex-0.1.0 optree-0.16.0 scikeras-0.13.0\n"
     ]
    }
   ],
   "source": [
    "!pip install scikeras"
   ]
  },
  {
   "cell_type": "code",
   "execution_count": 4,
   "id": "9d9da173-ed8a-4c78-8be6-69b0b3f02a4c",
   "metadata": {},
   "outputs": [
    {
     "name": "stdout",
     "output_type": "stream",
     "text": [
      "Python 3.13.5\n"
     ]
    }
   ],
   "source": [
    "!python --version"
   ]
  },
  {
   "cell_type": "code",
   "execution_count": 25,
   "id": "eafd3540-8476-4f1c-979a-30a02cf21c41",
   "metadata": {},
   "outputs": [],
   "source": [
    "df1 = pd.read_csv(\"C:/Users/verma/OneDrive/Desktop/adult 3.csv\")"
   ]
  },
  {
   "cell_type": "code",
   "execution_count": 27,
   "id": "795d36d0-f147-4efd-9eec-66efa003cf52",
   "metadata": {},
   "outputs": [
    {
     "name": "stdout",
     "output_type": "stream",
     "text": [
      "✅ Model trained and saved as 'best_model.pkl'\n"
     ]
    }
   ],
   "source": [
    "import pandas as pd\n",
    "from sklearn.model_selection import train_test_split\n",
    "from sklearn.pipeline import Pipeline\n",
    "from sklearn.preprocessing import MinMaxScaler, OneHotEncoder\n",
    "from sklearn.compose import ColumnTransformer\n",
    "from sklearn.linear_model import LogisticRegression\n",
    "from sklearn.svm import LinearSVC\n",
    "import joblib\n",
    "\n",
    "# Assuming df1 is already loaded — if not, load it like this:\n",
    "# df1 = pd.read_csv(\"your_dataset.csv\")\n",
    "\n",
    "# Target and features\n",
    "target = 'income'\n",
    "numerical_features = ['age', 'educational-num', 'hours-per-week']\n",
    "categorical_features = [\n",
    "    'workclass', 'marital-status', 'occupation', 'relationship',\n",
    "    'race', 'gender', 'native-country'\n",
    "]\n",
    "\n",
    "# Create features (X) and labels (y)\n",
    "X = df1[numerical_features + categorical_features]\n",
    "y = df1[target]\n",
    "\n",
    "# Train/test split\n",
    "Xtrain, Xtest, Ytrain, Ytest = train_test_split(X, y, test_size=0.2, random_state=42, stratify=y)\n",
    "\n",
    "# Preprocessing\n",
    "preprocessor = ColumnTransformer(transformers=[\n",
    "    ('num', MinMaxScaler(), numerical_features),\n",
    "    ('cat', OneHotEncoder(handle_unknown='ignore'), categorical_features)\n",
    "])\n",
    "\n",
    "# CLASSIFIER CHOICE: Use LogisticRegression or LinearSVC\n",
    "# classifier = LogisticRegression(max_iter=500)\n",
    "classifier = LinearSVC(max_iter=500)\n",
    "\n",
    "# Pipeline\n",
    "pipeline = Pipeline(steps=[\n",
    "    ('preprocessor', preprocessor),\n",
    "    ('classifier', classifier)\n",
    "])\n",
    "\n",
    "# Train model\n",
    "pipeline.fit(Xtrain, Ytrain)\n",
    "\n",
    "# Save to disk\n",
    "joblib.dump(pipeline, 'best_model.pkl')\n",
    "print(\"✅ Model trained and saved as 'best_model.pkl'\")\n"
   ]
  },
  {
   "cell_type": "code",
   "execution_count": 28,
   "id": "d7ea635e-399e-4454-8867-f8f4ae2113f3",
   "metadata": {},
   "outputs": [
    {
     "name": "stdout",
     "output_type": "stream",
     "text": [
      "Writing app.py\n"
     ]
    }
   ],
   "source": [
    "%%writefile app.py\n",
    "import streamlit as st\n",
    "import pandas as pd\n",
    "import joblib\n",
    "\n",
    "# Load trained pipeline\n",
    "model = joblib.load(\"best_model.pkl\")\n",
    "\n",
    "st.set_page_config(page_title=\"Classifying Employee Salary\", page_icon=\"🏢\", layout=\"centered\")\n",
    "\n",
    "st.title(\"💼 Employee Salary Classification by Devansh verma\")\n",
    "st.markdown(\"Predicting if an Employee salary is >50K or <=50K based on the given input\")\n",
    "\n",
    "# Sidebar inputs\n",
    "st.sidebar.header(\"Input Employee Details\")\n",
    "\n",
    "age = st.sidebar.slider(\"Age\", 18, 65, 30)\n",
    "edu_num = st.sidebar.slider(\"Education Number (e.g., 9 = HS-grad, 13 = Bachelors)\", 1, 16, 10)\n",
    "workclass = st.sidebar.selectbox(\"Workclass\", [\n",
    "    \"Private\", \"Self-emp-not-inc\", \"Self-emp-inc\", \"Federal-gov\",\n",
    "    \"Local-gov\", \"State-gov\", \"Without-pay\", \"Never-worked\", \"Other\"\n",
    "])\n",
    "marital_status = st.sidebar.selectbox(\"Marital Status\", [\n",
    "    \"Never-married\", \"Married-civ-spouse\", \"Divorced\", \"Separated\", \"Widowed\", \"Married-spouse-absent\"\n",
    "])\n",
    "occupation = st.sidebar.selectbox(\"Occupation\", [\n",
    "    \"Tech-support\", \"Craft-repair\", \"Other-service\", \"Sales\",\n",
    "    \"Exec-managerial\", \"Prof-specialty\", \"Handlers-cleaners\", \"Machine-op-inspct\",\n",
    "    \"Adm-clerical\", \"Farming-fishing\", \"Transport-moving\", \"Priv-house-serv\",\n",
    "    \"Protective-serv\", \"Armed-Forces\"\n",
    "    ])\n",
    "relationship = st.sidebar.selectbox(\"Relationship\", [\n",
    "    \"Wife\", \"Own-child\", \"Husband\", \"Not-in-family\", \"Other-relative\", \"Unmarried\"\n",
    "])\n",
    "race = st.sidebar.selectbox(\"Race\", [\"White\", \"Black\", \"Asian-Pac-Islander\", \"Amer-Indian-Eskimo\", \"Other\"])\n",
    "gender = st.sidebar.selectbox(\"Gender\", [\"Male\", \"Female\"])\n",
    "native_country = st.sidebar.selectbox(\"Native Country\", [\"United-States\", \"Mexico\", \"Philippines\", \"Germany\", \"Canada\", \"India\", \"Other\"])\n",
    "hours_per_week = st.sidebar.slider(\"Hours per week\", 1, 80, 40)\n",
    "# Input DataFrame (matches model pipeline columns)\n",
    "input_df = pd.DataFrame({\n",
    "    'age': [age],\n",
    "    'educational-num': [edu_num],\n",
    "    'workclass': [workclass],\n",
    "    'marital-status': [marital_status],\n",
    "    'occupation': [occupation],\n",
    "    'relationship': [relationship],\n",
    "    'race': [race],\n",
    "    'gender': [gender],\n",
    "    'native-country': [native_country],\n",
    "    'hours-per-week': [hours_per_week]\n",
    "})\n",
    "\n",
    "st.write(\"### 🔎 Input Data\")\n",
    "st.write(input_df)\n",
    "\n",
    "if st.button(\"Predict Salary Class\"):\n",
    "    prediction = model.predict(input_df)\n",
    "    st.success(f\"✅ Prediction: {prediction[0]}\")\n",
    "    # Batch prediction\n",
    "st.markdown(\"---\")\n",
    "st.markdown(\"#### 📂 Batch Prediction\")\n",
    "uploaded_file = st.file_uploader(\"Upload a CSV file for batch prediction\", type=\"csv\")\n",
    "\n",
    "if uploaded_file is not None:\n",
    "    batch_data = pd.read_csv(uploaded_file)\n",
    "    st.write(\"Uploaded data preview:\", batch_data.head())\n",
    "    batch_preds = model.predict(batch_data)\n",
    "    batch_data['PredictedClass'] = batch_preds\n",
    "    st.write(\"✅ Predictions:\")\n",
    "    st.write(batch_data.head())\n",
    "    csv = batch_data.to_csv(index=False).encode('utf-8')\n",
    "    st.download_button(\"Download Predictions CSV\", csv, file_name='predicted_classes.csv', mime='text/csv')"
   ]
  },
  {
   "cell_type": "code",
   "execution_count": null,
   "id": "bfcc3274-b06b-4da5-906c-8c1b05afe192",
   "metadata": {},
   "outputs": [],
   "source": []
  }
 ],
 "metadata": {
  "kernelspec": {
   "display_name": "Python 3 (ipykernel)",
   "language": "python",
   "name": "python3"
  },
  "language_info": {
   "codemirror_mode": {
    "name": "ipython",
    "version": 3
   },
   "file_extension": ".py",
   "mimetype": "text/x-python",
   "name": "python",
   "nbconvert_exporter": "python",
   "pygments_lexer": "ipython3",
   "version": "3.13.5"
  }
 },
 "nbformat": 4,
 "nbformat_minor": 5
}
